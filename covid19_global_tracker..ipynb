{
 "cells": [
  {
   "cell_type": "code",
   "execution_count": null,
   "id": "139518ff-ce1d-4434-81fc-372b14620a96",
   "metadata": {},
   "outputs": [],
   "source": [
    "# 🦠 COVID-19 Global Data Tracker\n",
    "\n",
    "This Jupyter Notebook analyzes COVID-19 trends globally using the [Our World in Data](https://ourworldindata.org/covid-cases) dataset.  \n",
    "It covers:\n",
    "- Case and death trends\n",
    "- Vaccination progress\n",
    "- Comparisons between countries\n",
    "- Visual insights and summaries\n",
    "\n",
    "---\n"
   ]
  },
  {
   "cell_type": "code",
   "execution_count": null,
   "id": "809f5991-b05a-4cb4-bda5-e0dd804f733b",
   "metadata": {},
   "outputs": [],
   "source": [
    "import pandas as pd\n",
    "import matplotlib.pyplot as plt\n",
    "import seaborn as sns\n",
    "\n",
    "%matplotlib inline\n",
    "sns.set(style=\"whitegrid\")\n",
    "\n",
    "# Load dataset\n",
    "df = pd.read_csv(\"owid-covid-data.csv\")\n",
    "df.head()\n"
   ]
  },
  {
   "cell_type": "code",
   "execution_count": null,
   "id": "614c4d3f-2d32-4fb7-b79b-77b7be5800f3",
   "metadata": {},
   "outputs": [],
   "source": [
    "df['date'] = pd.to_datetime(df['date'])\n",
    "\n",
    "# Select countries\n",
    "countries = ['Kenya', 'India', 'United States']\n",
    "df_countries = df[df['location'].isin(countries)]\n",
    "\n",
    "# Select important columns\n",
    "columns = [\n",
    "    'date', 'location', 'total_cases', 'new_cases', 'total_deaths',\n",
    "    'new_deaths', 'total_vaccinations', 'people_vaccinated',\n",
    "    'people_fully_vaccinated', 'population'\n",
    "]\n",
    "df_countries = df_countries[columns]\n",
    "\n",
    "# Handle missing values\n",
    "df_countries.fillna(0, inplace=True)\n",
    "df_countries.head()\n"
   ]
  },
  {
   "cell_type": "code",
   "execution_count": null,
   "id": "630dc3e3-a90d-4e0e-b412-0ca73cb2afab",
   "metadata": {},
   "outputs": [],
   "source": [
    "plt.figure(figsize=(12, 6))\n",
    "for country in countries:\n",
    "    data = df_countries[df_countries['location'] == country]\n",
    "    plt.plot(data['date'], data['total_cases'], label=country)\n",
    "\n",
    "plt.title('Total COVID-19 Cases Over Time')\n",
    "plt.xlabel('Date')\n",
    "plt.ylabel('Total Cases')\n",
    "plt.legend()\n",
    "plt.tight_layout()\n",
    "plt.show()\n"
   ]
  },
  {
   "cell_type": "code",
   "execution_count": null,
   "id": "943262f1-3ebf-4526-8df8-aed760d0e5bf",
   "metadata": {},
   "outputs": [],
   "source": [
    "plt.figure(figsize=(12, 6))\n",
    "for country in countries:\n",
    "    data = df_countries[df_countries['location'] == country]\n",
    "    plt.plot(data['date'], data['total_deaths'], label=country)\n",
    "\n",
    "plt.title('Total COVID-19 Deaths Over Time')\n",
    "plt.xlabel('Date')\n",
    "plt.ylabel('Total Deaths')\n",
    "plt.legend()\n",
    "plt.tight_layout()\n",
    "plt.show()\n"
   ]
  },
  {
   "cell_type": "code",
   "execution_count": null,
   "id": "abac8159-6a89-461b-834a-cadb2ee41e7f",
   "metadata": {},
   "outputs": [],
   "source": [
    "plt.figure(figsize=(12, 6))\n",
    "for country in countries:\n",
    "    data = df_countries[df_countries['location'] == country]\n",
    "    plt.plot(data['date'], data['total_vaccinations'], label=country)\n",
    "\n",
    "plt.title('COVID-19 Vaccination Progress Over Time')\n",
    "plt.xlabel('Date')\n",
    "plt.ylabel('Total Vaccinations')\n",
    "plt.legend()\n",
    "plt.tight_layout()\n",
    "plt.show()\n"
   ]
  },
  {
   "cell_type": "code",
   "execution_count": null,
   "id": "7e8dd8a4-80e7-4d82-97d4-ad29b960a780",
   "metadata": {},
   "outputs": [],
   "source": [
    "df_countries['death_rate'] = df_countries['total_deaths'] / df_countries['total_cases']\n",
    "df_countries['death_rate'] = df_countries['death_rate'].fillna(0)\n",
    "\n",
    "plt.figure(figsize=(12, 6))\n",
    "for country in countries:\n",
    "    data = df_countries[df_countries['location'] == country]\n",
    "    plt.plot(data['date'], data['death_rate'], label=country)\n",
    "\n",
    "plt.title('COVID-19 Death Rate Over Time')\n",
    "plt.xlabel('Date')\n",
    "plt.ylabel('Death Rate')\n",
    "plt.legend()\n",
    "plt.tight_layout()\n",
    "plt.show()\n"
   ]
  },
  {
   "cell_type": "code",
   "execution_count": null,
   "id": "f11dd8e1-b6e1-4a16-b8a1-fdfbf4c3b502",
   "metadata": {},
   "outputs": [],
   "source": [
    "## 🔍 Key Insights\n",
    "\n",
    "- The United States had the highest number of total cases and deaths.\n",
    "- India experienced a steep rise in cases during mid-2021.\n",
    "- Kenya’s vaccination rollout started later and progressed more slowly.\n",
    "- Death rates fluctuate and show spikes indicating critical periods.\n",
    "\n",
    "---\n",
    "*Data Source: Our World in Data*\n"
   ]
  }
 ],
 "metadata": {
  "kernelspec": {
   "display_name": "",
   "name": ""
  },
  "language_info": {
   "name": ""
  }
 },
 "nbformat": 4,
 "nbformat_minor": 5
}
